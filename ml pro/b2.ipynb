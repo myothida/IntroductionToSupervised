{
 "cells": [
  {
   "cell_type": "code",
   "execution_count": 22,
   "metadata": {},
   "outputs": [],
   "source": [
    "import joblib\n",
    "import pandas as pd\n",
    "\n",
    "df = pd.read_csv('Livings.csv')\n",
    "df.columns = ['bedrooms','Area','bathroom','place', 'Prices']\n",
    "\n",
    "Xtest = df[['bathroom','Area','bedrooms']]\n",
    "ytest= df[['Prices']]\n",
    "# Load the Polynomial Transformation from the file\n",
    "loaded_poly_transformer = joblib.load('bp.joblib')\n",
    "loaded_scaler_transformer = joblib.load('scaler.joblib')\n",
    "loaded_model = joblib.load('boon.joblib')\n",
    "\n",
    "X_scaler_loaded = loaded_scaler_transformer.transform(Xtest)\n",
    "\n",
    "# Now you can use the loaded_poly_transformer to transform data\n",
    "X_poly_loaded = loaded_poly_transformer.transform(X_scaler_loaded)\n",
    "\n",
    "ytest_pred = loaded_model.predict(X_poly_loaded)"
   ]
  },
  {
   "cell_type": "code",
   "execution_count": 23,
   "metadata": {},
   "outputs": [
    {
     "name": "stdout",
     "output_type": "stream",
     "text": [
      "2.0105183856171214e+44 9.870937029588983e+20 -1.3757617722190036e+32\n"
     ]
    }
   ],
   "source": [
    "\n",
    "from sklearn.metrics import mean_absolute_error\n",
    "from sklearn.metrics import mean_squared_error\n",
    "from sklearn.metrics import r2_score\n",
    "\n",
    "\n",
    "mse = mean_squared_error(ytest,ytest_pred)\n",
    "mae = mean_absolute_error(ytest,ytest_pred)\n",
    "r2 = r2_score(ytest,ytest_pred)\n",
    "\n",
    "print (mse,mae,r2)\n",
    "    \n"
   ]
  }
 ],
 "metadata": {
  "kernelspec": {
   "display_name": "Python 3",
   "language": "python",
   "name": "python3"
  },
  "language_info": {
   "codemirror_mode": {
    "name": "ipython",
    "version": 3
   },
   "file_extension": ".py",
   "mimetype": "text/x-python",
   "name": "python",
   "nbconvert_exporter": "python",
   "pygments_lexer": "ipython3",
   "version": "3.11.4"
  },
  "orig_nbformat": 4
 },
 "nbformat": 4,
 "nbformat_minor": 2
}
