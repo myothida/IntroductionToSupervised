{
 "cells": [
  {
   "cell_type": "code",
   "execution_count": 21,
   "metadata": {},
   "outputs": [
    {
     "data": {
      "text/html": [
       "<div>\n",
       "<style scoped>\n",
       "    .dataframe tbody tr th:only-of-type {\n",
       "        vertical-align: middle;\n",
       "    }\n",
       "\n",
       "    .dataframe tbody tr th {\n",
       "        vertical-align: top;\n",
       "    }\n",
       "\n",
       "    .dataframe thead th {\n",
       "        text-align: right;\n",
       "    }\n",
       "</style>\n",
       "<table border=\"1\" class=\"dataframe\">\n",
       "  <thead>\n",
       "    <tr style=\"text-align: right;\">\n",
       "      <th></th>\n",
       "      <th>bedrooms</th>\n",
       "      <th>Area</th>\n",
       "      <th>Prices</th>\n",
       "      <th>bathroom</th>\n",
       "      <th>Place</th>\n",
       "    </tr>\n",
       "  </thead>\n",
       "  <tbody>\n",
       "    <tr>\n",
       "      <th>0</th>\n",
       "      <td>1.0</td>\n",
       "      <td>30.0</td>\n",
       "      <td>2290000.0</td>\n",
       "      <td>1.0</td>\n",
       "      <td>faham</td>\n",
       "    </tr>\n",
       "    <tr>\n",
       "      <th>1</th>\n",
       "      <td>1.0</td>\n",
       "      <td>30.0</td>\n",
       "      <td>1449000.0</td>\n",
       "      <td>1.0</td>\n",
       "      <td>changpuk</td>\n",
       "    </tr>\n",
       "    <tr>\n",
       "      <th>2</th>\n",
       "      <td>1.0</td>\n",
       "      <td>30.0</td>\n",
       "      <td>630000.0</td>\n",
       "      <td>1.0</td>\n",
       "      <td>tasara</td>\n",
       "    </tr>\n",
       "    <tr>\n",
       "      <th>3</th>\n",
       "      <td>1.0</td>\n",
       "      <td>30.0</td>\n",
       "      <td>2200000.0</td>\n",
       "      <td>1.0</td>\n",
       "      <td>faham</td>\n",
       "    </tr>\n",
       "    <tr>\n",
       "      <th>4</th>\n",
       "      <td>1.0</td>\n",
       "      <td>30.0</td>\n",
       "      <td>650000.0</td>\n",
       "      <td>1.0</td>\n",
       "      <td>tasara</td>\n",
       "    </tr>\n",
       "    <tr>\n",
       "      <th>...</th>\n",
       "      <td>...</td>\n",
       "      <td>...</td>\n",
       "      <td>...</td>\n",
       "      <td>...</td>\n",
       "      <td>...</td>\n",
       "    </tr>\n",
       "    <tr>\n",
       "      <th>196</th>\n",
       "      <td>3.0</td>\n",
       "      <td>46.0</td>\n",
       "      <td>6250000.0</td>\n",
       "      <td>3.0</td>\n",
       "      <td>patan</td>\n",
       "    </tr>\n",
       "    <tr>\n",
       "      <th>197</th>\n",
       "      <td>3.0</td>\n",
       "      <td>46.0</td>\n",
       "      <td>5250000.0</td>\n",
       "      <td>3.0</td>\n",
       "      <td>suthep</td>\n",
       "    </tr>\n",
       "    <tr>\n",
       "      <th>198</th>\n",
       "      <td>3.0</td>\n",
       "      <td>47.0</td>\n",
       "      <td>5200000.0</td>\n",
       "      <td>3.0</td>\n",
       "      <td>patan</td>\n",
       "    </tr>\n",
       "    <tr>\n",
       "      <th>199</th>\n",
       "      <td>3.0</td>\n",
       "      <td>47.0</td>\n",
       "      <td>6250000.0</td>\n",
       "      <td>3.0</td>\n",
       "      <td>nimman</td>\n",
       "    </tr>\n",
       "    <tr>\n",
       "      <th>200</th>\n",
       "      <td>3.0</td>\n",
       "      <td>47.0</td>\n",
       "      <td>5950000.0</td>\n",
       "      <td>3.0</td>\n",
       "      <td>nimman</td>\n",
       "    </tr>\n",
       "  </tbody>\n",
       "</table>\n",
       "<p>201 rows × 5 columns</p>\n",
       "</div>"
      ],
      "text/plain": [
       "     bedrooms  Area      Prices  bathroom     Place\n",
       "0         1.0   30.0  2290000.0       1.0     faham\n",
       "1         1.0   30.0  1449000.0       1.0  changpuk\n",
       "2         1.0   30.0   630000.0       1.0    tasara\n",
       "3         1.0   30.0  2200000.0       1.0     faham\n",
       "4         1.0   30.0   650000.0       1.0    tasara\n",
       "..        ...    ...        ...       ...       ...\n",
       "196       3.0   46.0  6250000.0       3.0     patan\n",
       "197       3.0   46.0  5250000.0       3.0    suthep\n",
       "198       3.0   47.0  5200000.0       3.0     patan\n",
       "199       3.0   47.0  6250000.0       3.0    nimman\n",
       "200       3.0   47.0  5950000.0       3.0    nimman\n",
       "\n",
       "[201 rows x 5 columns]"
      ]
     },
     "execution_count": 21,
     "metadata": {},
     "output_type": "execute_result"
    }
   ],
   "source": [
    "import pandas as pd\n",
    "import numpy as np\n",
    "\n",
    "# X = df1[['bedrooms', 'Area ', 'Place', 'bathroom']]\n",
    "# y = df1['Prices']\n",
    "\n",
    "df=pd.read_csv('condoPr.csv')\n",
    "df.dropna()"
   ]
  },
  {
   "cell_type": "code",
   "execution_count": 22,
   "metadata": {},
   "outputs": [
    {
     "data": {
      "text/plain": [
       "bedrooms    2\n",
       "Area        2\n",
       "Prices      2\n",
       "bathroom    2\n",
       "Place       2\n",
       "dtype: int64"
      ]
     },
     "execution_count": 22,
     "metadata": {},
     "output_type": "execute_result"
    }
   ],
   "source": [
    "df.isnull().sum()"
   ]
  },
  {
   "cell_type": "code",
   "execution_count": 23,
   "metadata": {},
   "outputs": [
    {
     "data": {
      "text/plain": [
       "bedrooms    0\n",
       "Area        0\n",
       "Prices      0\n",
       "bathroom    0\n",
       "Place       0\n",
       "dtype: int64"
      ]
     },
     "execution_count": 23,
     "metadata": {},
     "output_type": "execute_result"
    }
   ],
   "source": [
    "df1 = df.dropna()\n",
    "df1.isnull().sum()"
   ]
  },
  {
   "cell_type": "code",
   "execution_count": 24,
   "metadata": {},
   "outputs": [
    {
     "name": "stdout",
     "output_type": "stream",
     "text": [
      "<class 'pandas.core.frame.DataFrame'>\n",
      "Index: 201 entries, 0 to 200\n",
      "Data columns (total 5 columns):\n",
      " #   Column    Non-Null Count  Dtype  \n",
      "---  ------    --------------  -----  \n",
      " 0   bedrooms  201 non-null    float64\n",
      " 1   Area      201 non-null    float64\n",
      " 2   Prices    201 non-null    float64\n",
      " 3   bathroom  201 non-null    float64\n",
      " 4   Place     201 non-null    object \n",
      "dtypes: float64(4), object(1)\n",
      "memory usage: 9.4+ KB\n"
     ]
    }
   ],
   "source": [
    "df1.info()"
   ]
  },
  {
   "cell_type": "code",
   "execution_count": 25,
   "metadata": {},
   "outputs": [
    {
     "data": {
      "text/plain": [
       "array(['faham', 'changpuk', 'tasara', 'tasara ', 'suthep', 'nimman',\n",
       "       'robinsun', 'patan', 'mahidol'], dtype=object)"
      ]
     },
     "execution_count": 25,
     "metadata": {},
     "output_type": "execute_result"
    }
   ],
   "source": [
    "df1['Place'].describe()\n",
    "df1['Place'].unique()"
   ]
  },
  {
   "cell_type": "code",
   "execution_count": 26,
   "metadata": {},
   "outputs": [
    {
     "name": "stderr",
     "output_type": "stream",
     "text": [
      "/var/folders/jb/w0vzpx0n7dl8hp7tscft8hhw0000gn/T/ipykernel_2136/3979589719.py:1: SettingWithCopyWarning: \n",
      "A value is trying to be set on a copy of a slice from a DataFrame.\n",
      "Try using .loc[row_indexer,col_indexer] = value instead\n",
      "\n",
      "See the caveats in the documentation: https://pandas.pydata.org/pandas-docs/stable/user_guide/indexing.html#returning-a-view-versus-a-copy\n",
      "  df1['Place'] = df1.Place.map({'faham':1, 'changpuk':2, 'tasara':3, 'tasara ':4, 'suthep':5, 'nimman':6,'robinsun':7, 'patan':8, 'mahidol':9})\n"
     ]
    }
   ],
   "source": [
    "df1['Place'] = df1.Place.map({'faham':1, 'changpuk':2, 'tasara':3, 'tasara ':4, 'suthep':5, 'nimman':6,'robinsun':7, 'patan':8, 'mahidol':9})"
   ]
  },
  {
   "cell_type": "code",
   "execution_count": 27,
   "metadata": {},
   "outputs": [
    {
     "data": {
      "text/html": [
       "<div>\n",
       "<style scoped>\n",
       "    .dataframe tbody tr th:only-of-type {\n",
       "        vertical-align: middle;\n",
       "    }\n",
       "\n",
       "    .dataframe tbody tr th {\n",
       "        vertical-align: top;\n",
       "    }\n",
       "\n",
       "    .dataframe thead th {\n",
       "        text-align: right;\n",
       "    }\n",
       "</style>\n",
       "<table border=\"1\" class=\"dataframe\">\n",
       "  <thead>\n",
       "    <tr style=\"text-align: right;\">\n",
       "      <th></th>\n",
       "      <th>bedrooms</th>\n",
       "      <th>Area</th>\n",
       "      <th>Prices</th>\n",
       "      <th>bathroom</th>\n",
       "      <th>Place</th>\n",
       "    </tr>\n",
       "  </thead>\n",
       "  <tbody>\n",
       "    <tr>\n",
       "      <th>0</th>\n",
       "      <td>1.0</td>\n",
       "      <td>30.0</td>\n",
       "      <td>2290000.0</td>\n",
       "      <td>1.0</td>\n",
       "      <td>1</td>\n",
       "    </tr>\n",
       "    <tr>\n",
       "      <th>1</th>\n",
       "      <td>1.0</td>\n",
       "      <td>30.0</td>\n",
       "      <td>1449000.0</td>\n",
       "      <td>1.0</td>\n",
       "      <td>2</td>\n",
       "    </tr>\n",
       "    <tr>\n",
       "      <th>2</th>\n",
       "      <td>1.0</td>\n",
       "      <td>30.0</td>\n",
       "      <td>630000.0</td>\n",
       "      <td>1.0</td>\n",
       "      <td>3</td>\n",
       "    </tr>\n",
       "    <tr>\n",
       "      <th>3</th>\n",
       "      <td>1.0</td>\n",
       "      <td>30.0</td>\n",
       "      <td>2200000.0</td>\n",
       "      <td>1.0</td>\n",
       "      <td>1</td>\n",
       "    </tr>\n",
       "    <tr>\n",
       "      <th>4</th>\n",
       "      <td>1.0</td>\n",
       "      <td>30.0</td>\n",
       "      <td>650000.0</td>\n",
       "      <td>1.0</td>\n",
       "      <td>3</td>\n",
       "    </tr>\n",
       "    <tr>\n",
       "      <th>...</th>\n",
       "      <td>...</td>\n",
       "      <td>...</td>\n",
       "      <td>...</td>\n",
       "      <td>...</td>\n",
       "      <td>...</td>\n",
       "    </tr>\n",
       "    <tr>\n",
       "      <th>196</th>\n",
       "      <td>3.0</td>\n",
       "      <td>46.0</td>\n",
       "      <td>6250000.0</td>\n",
       "      <td>3.0</td>\n",
       "      <td>8</td>\n",
       "    </tr>\n",
       "    <tr>\n",
       "      <th>197</th>\n",
       "      <td>3.0</td>\n",
       "      <td>46.0</td>\n",
       "      <td>5250000.0</td>\n",
       "      <td>3.0</td>\n",
       "      <td>5</td>\n",
       "    </tr>\n",
       "    <tr>\n",
       "      <th>198</th>\n",
       "      <td>3.0</td>\n",
       "      <td>47.0</td>\n",
       "      <td>5200000.0</td>\n",
       "      <td>3.0</td>\n",
       "      <td>8</td>\n",
       "    </tr>\n",
       "    <tr>\n",
       "      <th>199</th>\n",
       "      <td>3.0</td>\n",
       "      <td>47.0</td>\n",
       "      <td>6250000.0</td>\n",
       "      <td>3.0</td>\n",
       "      <td>6</td>\n",
       "    </tr>\n",
       "    <tr>\n",
       "      <th>200</th>\n",
       "      <td>3.0</td>\n",
       "      <td>47.0</td>\n",
       "      <td>5950000.0</td>\n",
       "      <td>3.0</td>\n",
       "      <td>6</td>\n",
       "    </tr>\n",
       "  </tbody>\n",
       "</table>\n",
       "<p>201 rows × 5 columns</p>\n",
       "</div>"
      ],
      "text/plain": [
       "     bedrooms  Area      Prices  bathroom  Place\n",
       "0         1.0   30.0  2290000.0       1.0      1\n",
       "1         1.0   30.0  1449000.0       1.0      2\n",
       "2         1.0   30.0   630000.0       1.0      3\n",
       "3         1.0   30.0  2200000.0       1.0      1\n",
       "4         1.0   30.0   650000.0       1.0      3\n",
       "..        ...    ...        ...       ...    ...\n",
       "196       3.0   46.0  6250000.0       3.0      8\n",
       "197       3.0   46.0  5250000.0       3.0      5\n",
       "198       3.0   47.0  5200000.0       3.0      8\n",
       "199       3.0   47.0  6250000.0       3.0      6\n",
       "200       3.0   47.0  5950000.0       3.0      6\n",
       "\n",
       "[201 rows x 5 columns]"
      ]
     },
     "execution_count": 27,
     "metadata": {},
     "output_type": "execute_result"
    }
   ],
   "source": [
    "df1"
   ]
  },
  {
   "attachments": {},
   "cell_type": "markdown",
   "metadata": {},
   "source": [
    "### *Liner Regression*"
   ]
  },
  {
   "cell_type": "code",
   "execution_count": 28,
   "metadata": {},
   "outputs": [
    {
     "name": "stdout",
     "output_type": "stream",
     "text": [
      "1 test:  0.5328425068488438 train:  0.4304521788665532\n",
      "2 test:  0.5236057601073512 train:  0.44882243496024576\n",
      "3 test:  0.43512423903782216 train:  0.5066461953357877\n",
      "4 test:  0.4026774374078069 train:  0.5086876411598702\n",
      "5 test:  0.43716254952793565 train:  0.49977197677767726\n",
      "6 test:  0.5096249849199808 train:  0.46418300620888886\n",
      "7 test:  0.47055710050329913 train:  0.4844038453272165\n",
      "8 test:  0.534114897346631 train:  0.4622061007750604\n",
      "9 test:  0.531209423650435 train:  0.46162825440528943\n",
      "10 test:  0.4635754192114343 train:  0.48395066817951815\n",
      "11 test:  0.5347891105184297 train:  0.4565164598276752\n",
      "12 test:  0.4786275906788495 train:  0.47849045212726005\n",
      "13 test:  0.5923131179923387 train:  0.4272464236611442\n",
      "14 test:  0.5214502988249547 train:  0.45724811075331406\n",
      "15 test:  0.4792260693554754 train:  0.47976041918502466\n",
      "16 test:  0.453210051435067 train:  0.4902750071938865\n",
      "17 test:  0.5104471915497555 train:  0.45588893644331085\n",
      "18 test:  0.5196490366875373 train:  0.4640659049687774\n",
      "19 test:  0.5985360936687171 train:  0.4366464914827698\n"
     ]
    }
   ],
   "source": [
    "from sklearn.linear_model import LinearRegression\n",
    "from sklearn.preprocessing import StandardScaler\n",
    "from sklearn.metrics import mean_squared_error, mean_absolute_error, r2_score\n",
    "from sklearn.preprocessing import PolynomialFeatures\n",
    "\n",
    "from sklearn.model_selection import train_test_split\n",
    "\n",
    "from sklearn.impute import SimpleImputer\n",
    "from sklearn.preprocessing import StandardScaler\n",
    "\n",
    "from sklearn.linear_model import LinearRegression\n",
    "\n",
    "from sklearn.pipeline import Pipeline\n",
    "\n",
    "X = df1['bathroom'].values.reshape(-1,1)\n",
    "y = df1['Prices'].values.reshape(-1,1)\n",
    "\n",
    "for i in range(1,20):\n",
    "\n",
    "  X_train, X_test, y_train, y_test = train_test_split(X,y,test_size = 0.3, shuffle=True)\n",
    "\n",
    "  steps = [(\"imp_mean\", SimpleImputer()),\n",
    "          (\"scaler\" , StandardScaler()),\n",
    "          (\"tranform\" , PolynomialFeatures(degree = i)),\n",
    "          (\"liReg\" , LinearRegression())]\n",
    "\n",
    "  pipeline = Pipeline(steps)\n",
    "  \n",
    "  pipeline.fit(X_train,y_train)\n",
    "  rscore = pipeline.score(X_test, y_test)\n",
    "\n",
    "  rscore2 = pipeline.score(X_train, y_train)\n",
    "  y_pred = pipeline.predict(X_test)\n",
    "\n",
    "  print(i, \"test: \", rscore, \"train: \", rscore2)"
   ]
  },
  {
   "cell_type": "code",
   "execution_count": 29,
   "metadata": {},
   "outputs": [
    {
     "name": "stdout",
     "output_type": "stream",
     "text": [
      "r2-score: 0.462 \n",
      "mean squared error: 727352842916.945 \n",
      "mean absolute error: 680909.366\n"
     ]
    }
   ],
   "source": [
    "from sklearn.metrics import r2_score\n",
    "from sklearn.metrics import mean_absolute_error\n",
    "from sklearn.metrics import mean_squared_error\n",
    "\n",
    "scaler = StandardScaler()\n",
    "X_scaled = scaler.fit_transform(X)\n",
    "\n",
    "lr = LinearRegression()\n",
    "lr.fit(X_scaled, y)\n",
    "\n",
    "Y_pred = lr.predict(X_scaled)\n",
    "rscore = r2_score(y, Y_pred)\n",
    "mse = mean_squared_error(y, Y_pred)\n",
    "mae = mean_absolute_error(y, Y_pred)\n",
    "\n",
    "print('r2-score:', rscore.round(3), '\\nmean squared error:', mse.round(3), '\\nmean absolute error:', mae.round(3))"
   ]
  },
  {
   "cell_type": "code",
   "execution_count": 30,
   "metadata": {},
   "outputs": [],
   "source": [
    "# import matplotlib.pyplot as plt\n",
    "# import seaborn as sns\n",
    "\n",
    "# sns.scatterplot(data = df1, x = 'bathroom', y = 'Prices')\n",
    "# x_model = np.linspace(df1['bathroom'].min(), df1['bathroom'].max(), 50)\n",
    "# y_model = model.predict(scaler.fit_transform(x_model.reshape(-1,1)))\n",
    "# plt.plot(x_model,  y_model, color = 'k')\n",
    "# plt.legend(['training data', 'predicted model'])\n",
    "# plt.show()"
   ]
  },
  {
   "attachments": {},
   "cell_type": "markdown",
   "metadata": {},
   "source": [
    "### *Polynomial Regression*"
   ]
  },
  {
   "cell_type": "code",
   "execution_count": 31,
   "metadata": {},
   "outputs": [
    {
     "name": "stdout",
     "output_type": "stream",
     "text": [
      "[[-4.72733910e+18 -2.28748387e+19 -3.60894109e+17  8.77953146e+18\n",
      "  -2.82300268e+18  4.78712366e+18  9.85560418e+17]] [1.04334074e+18]\n",
      "r2-score: 0.484 \n",
      "mean squared error: 697942480684.348 \n",
      "mean absolute error: 657818.06\n"
     ]
    }
   ],
   "source": [
    "from sklearn.preprocessing import PolynomialFeatures\n",
    "\n",
    "#Feature scaling\n",
    "scaler = StandardScaler()\n",
    "X_scaled = scaler.fit_transform(X.reshape(-1,1))\n",
    "\n",
    "# Poly transformation \n",
    "order = 7\n",
    "poly = PolynomialFeatures(degree=order, include_bias=False)\n",
    "poly_features = poly.fit_transform(X_scaled.reshape(-1, 1))\n",
    "\n",
    "# Modeling. \n",
    "lr = LinearRegression()\n",
    "model = lr.fit(poly_features, y)\n",
    "print(model.coef_, model.intercept_)\n",
    "\n",
    "#Prediction\n",
    "Y_pred = model.predict(poly_features)\n",
    "rscore = model.score(poly_features, y)\n",
    "mse = mean_squared_error(y, Y_pred)\n",
    "mae = mean_absolute_error(y, Y_pred)\n",
    "\n",
    "print('r2-score:', rscore.round(3), '\\nmean squared error:', mse.round(3), '\\nmean absolute error:', mae.round(3))\n"
   ]
  },
  {
   "cell_type": "code",
   "execution_count": 32,
   "metadata": {},
   "outputs": [
    {
     "ename": "ModuleNotFoundError",
     "evalue": "No module named 'matplotlib'",
     "output_type": "error",
     "traceback": [
      "\u001b[0;31m---------------------------------------------------------------------------\u001b[0m",
      "\u001b[0;31mModuleNotFoundError\u001b[0m                       Traceback (most recent call last)",
      "Cell \u001b[0;32mIn[32], line 1\u001b[0m\n\u001b[0;32m----> 1\u001b[0m \u001b[39mimport\u001b[39;00m \u001b[39mmatplotlib\u001b[39;00m\u001b[39m.\u001b[39;00m\u001b[39mpyplot\u001b[39;00m \u001b[39mas\u001b[39;00m \u001b[39mplt\u001b[39;00m\n\u001b[1;32m      2\u001b[0m \u001b[39mimport\u001b[39;00m \u001b[39mseaborn\u001b[39;00m \u001b[39mas\u001b[39;00m \u001b[39msns\u001b[39;00m\n\u001b[1;32m      4\u001b[0m sns\u001b[39m.\u001b[39mscatterplot(data \u001b[39m=\u001b[39m df1, x \u001b[39m=\u001b[39m \u001b[39m'\u001b[39m\u001b[39mbathroom\u001b[39m\u001b[39m'\u001b[39m, y \u001b[39m=\u001b[39m \u001b[39m'\u001b[39m\u001b[39mPrices\u001b[39m\u001b[39m'\u001b[39m)\n",
      "\u001b[0;31mModuleNotFoundError\u001b[0m: No module named 'matplotlib'"
     ]
    }
   ],
   "source": [
    "import matplotlib.pyplot as plt\n",
    "import seaborn as sns\n",
    "\n",
    "sns.scatterplot(data = df1, x = 'bathroom', y = 'Prices')\n",
    "x_model = np.linspace(df1['bathroom'].min(), df1['bathroom'].max(), 50)\n",
    "x_model_scaled = scaler.fit_transform(x_model.reshape(-1,1))\n",
    "\n",
    "x_model_poly  = poly.fit_transform(x_model_scaled)\n",
    "y_model = model.predict(x_model_poly)\n",
    "\n",
    "plt.plot(x_model,  y_model, color = 'r')\n",
    "plt.legend(['training data', 'predicted model with degree ' + str(order)])\n",
    "plt.show()"
   ]
  }
 ],
 "metadata": {
  "kernelspec": {
   "display_name": "Python 3",
   "language": "python",
   "name": "python3"
  },
  "language_info": {
   "codemirror_mode": {
    "name": "ipython",
    "version": 3
   },
   "file_extension": ".py",
   "mimetype": "text/x-python",
   "name": "python",
   "nbconvert_exporter": "python",
   "pygments_lexer": "ipython3",
   "version": "3.11.4"
  },
  "orig_nbformat": 4,
  "vscode": {
   "interpreter": {
    "hash": "75e8eb0781b8fafa2233c27c5a9b9ae7b2925affab6a9c8e68e342492558c677"
   }
  }
 },
 "nbformat": 4,
 "nbformat_minor": 2
}
